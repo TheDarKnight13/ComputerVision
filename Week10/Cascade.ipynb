{
 "cells": [
  {
   "cell_type": "code",
   "execution_count": 1,
   "id": "a6db6a37",
   "metadata": {},
   "outputs": [],
   "source": [
    "#importing the libraries\n",
    "import numpy as np\n",
    "import matplotlib.pyplot as plt\n",
    "import cv2"
   ]
  },
  {
   "cell_type": "code",
   "execution_count": 2,
   "id": "8fb9ad7a",
   "metadata": {},
   "outputs": [],
   "source": [
    "#getting the test and train features\n",
    "def get_features(datatype):\n",
    "    if datatype == \"train\":\n",
    "        file1 = np.load(\"train_pos.npz\")\n",
    "        train_pos = file1[\"arr_0\"]\n",
    "\n",
    "        file2 = np.load(\"train_neg.npz\")\n",
    "        train_neg = file2[\"arr_0\"]\n",
    "\n",
    "        return train_pos, train_neg\n",
    "\n",
    "    elif datatype == \"test\":\n",
    "        file1 = np.load(\"test_pos.npz\")\n",
    "        test_pos = file1[\"arr_0\"]\n",
    "\n",
    "        file2 = np.load(\"test_neg.npz\")\n",
    "        test_neg = file2[\"arr_0\"]\n",
    "\n",
    "        return test_pos, test_neg"
   ]
  },
  {
   "cell_type": "code",
   "execution_count": 3,
   "id": "898f3ff6",
   "metadata": {},
   "outputs": [],
   "source": [
    "def cascade_1stage(features, num_pos, num_neg, FPR_stage_max, T):\n",
    "\n",
    "    w_pos = np.ones(num_pos)*0.5/num_pos #initializing weights for all the postive images\n",
    "    w_neg = np.ones(num_neg)*0.5/num_neg #initializing weights for all the negative images\n",
    "    w_all = np.append(w_pos, w_neg)\n",
    "\n",
    "    l_pos = np.ones(num_pos) #Setting label of all positive images as 1\n",
    "    l_neg = np.zeros(num_neg) #Setting label of all negative images as 0\n",
    "    l_all = np.append(l_pos, l_neg)\n",
    "    l_all = l_all.astype(np.int)\n",
    "\n",
    "    all_alpha = [] #Storing all the alpha values of the weak classifiers of a stage\n",
    "    all_ht = [] #Storing the three values associated with a weak classifier\n",
    "    all_pred = [] #Storing the predictions made by every weak classifier\n",
    "\n",
    "    for t in range(T):\n",
    "        w_all, all_alpha, all_pred, all_ht = best_weak_classifier(features, l_all, w_all, num_pos, all_alpha, all_pred,all_ht)\n",
    "        imgs_redu_feat = np.dot(np.asarray(all_pred).T, np.asarray(all_alpha)) #Multiplying prediction based on each feature with the trust associated with that feature\n",
    "        \n",
    "        og_pos = np.min(imgs_redu_feat[:num_pos]) #Finding the minimum threshold among the given positive images,, this ensures TPR=1\n",
    "        \n",
    "        pred_final = np.zeros(imgs_redu_feat.shape)\n",
    "        pred_final[imgs_redu_feat>=og_pos] = 1 #Thresholding all the images based on the above value.\n",
    "\n",
    "        fp = np.sum(pred_final[num_pos:])/num_neg #Calculating the number of false positives\n",
    "        tp = np.sum(pred_final[:num_pos])/num_pos #Calculating the number of true positives\n",
    "        if fp < FPR_stage_max: #Not adding any more weak classifiers to a stage if the FPR goes below a threshold\n",
    "            break\n",
    "            \n",
    "    false_pos_img = np.sum(pred_final[num_pos:]).astype(int) #Finding out the number of false positives\n",
    "\n",
    "    new_features = features[:num_pos] #New features consist of all the true postives\n",
    "    \n",
    "    for i in range(num_pos,num_pos+num_neg):\n",
    "        if pred_final[i] == 1: #You also append false positives to the new features\n",
    "            neg_sample = features[i]\n",
    "            neg_sample = np.reshape(neg_sample, (1,-1))\n",
    "            new_features = np.append(new_features,neg_sample, axis = 0)\n",
    "\n",
    "    number_of_weak_classifiers = t \n",
    "    cascade_classifier = [all_ht, new_features, false_pos_img, number_of_weak_classifiers, all_alpha]\n",
    "    return cascade_classifier\n"
   ]
  },
  {
   "cell_type": "code",
   "execution_count": 4,
   "id": "0c792ad5",
   "metadata": {},
   "outputs": [],
   "source": [
    "def best_weak_classifier(features, l_all, w_all, num_pos, all_alpha, all_pred, all_ht):\n",
    " \n",
    "    w_all = w_all/np.sum(w_all) #Normalizing the weights\n",
    "\n",
    "    w_all_un = np.tile(w_all, (np.shape(features)[1],1)) #Duplicating the weight of an image for all its features\n",
    "    l_all_un = np.tile(l_all, (np.shape(features)[1],1)) #Duplicating the label of an image for all its features\n",
    "    idx = np.argsort(features, axis = 0) #indexes of all the sorted features \n",
    "    \n",
    "    num_row = np.arange(np.shape(features)[1])\n",
    "    sorted_l_all = l_all_un[num_row,idx] #All the labels sorted according to the features\n",
    "    sorted_w_all = w_all_un[num_row,idx] #All the weights sorted according to the features   \n",
    "\n",
    "    T_pos = np.sum(w_all[:num_pos]) #Sum of all the postive weights\n",
    "    T_neg = np.sum(w_all[num_pos:]) #Sum of all the negative weights\n",
    "    \n",
    "    mask_pos_W = np.multiply(sorted_w_all,sorted_l_all)\n",
    "    \n",
    "    S_pos = np.cumsum(mask_pos_W, axis = 0) #Sum of all the postive weights whose feature value is less than threshold\n",
    "    S_neg = np.cumsum(sorted_w_all, axis = 0) - S_pos #Sum of all the negative weights whose feature value is less than threshold\n",
    "    \n",
    "    error1 = S_pos + T_neg - S_neg\n",
    "    error2 = S_neg + T_pos - S_pos\n",
    "    error_t= np.stack((error1,error2), axis = 2) #Calculating the error\n",
    "\n",
    "    idx_min = np.unravel_index(np.argmin(error_t), error_t.shape) #finding the index at which the error_tmatrix is at the lowest value\n",
    "    min_error_t= error_t[idx_min] \n",
    "    \n",
    "    feat = idx_min[1] #The feature that will best act as the weak classifier\n",
    "    index = idx[:,feat] #The index of all the images sorted according to the above feature\n",
    "    \n",
    "       \n",
    "    pred = np.zeros(features.shape[0])\n",
    "    pred_unord = np.zeros(features.shape[0])    \n",
    "\n",
    "\n",
    "    if idx_min[2] == 1:             #In this case error2 is minimum, thus polarity is positive\n",
    "        polarity = 1\n",
    "        pred_unord[:idx_min[0]+1]=1 #Setting all the images before the index idx_min[0]+1 to 1 and the rest to 0\n",
    "    else:                           #In this case error1 is minimum, thus polarity is negative\n",
    "        polarity = -1\n",
    "        pred_unord[idx_min[0]+1:]=1 #Setting all the images afeater the index idx_min[0]+1 to 1 and the rest to 0\n",
    "    \n",
    "    pred[index] = pred_unord #Ensuring the predictions have the original order    \n",
    "\n",
    "    feature = features[:,feat] \n",
    "    feature = feature[index]\n",
    "    \n",
    "    #Calculating the threshold\n",
    "    if idx_min[0] == -1:\n",
    "        thres = feature[-1] + 0.01\n",
    "    elif idx_min[0] == 0:\n",
    "        thres = feature[0] - 0.01\n",
    "    else:\n",
    "        thres = np.mean(feature[idx_min[0]-1:idx_min[0]+1])\n",
    "\n",
    "    \n",
    "    \n",
    "    #calculating the trust\n",
    "    beta = min_error_t/(1-min_error_t)\n",
    "    all_alpha.append(np.log(1/beta))\n",
    "    \n",
    "    all_pred.append(np.transpose(pred))    \n",
    "    all_ht.append([feat, polarity, thres]) #Storing the three values associated with a weak classifier\n",
    "    w_all = w_all*(beta**(1-np.abs(l_all-pred))) #updating the w_all\n",
    "\n",
    "    return w_all, all_alpha, all_pred, all_ht\n"
   ]
  },
  {
   "cell_type": "code",
   "execution_count": 5,
   "id": "29c8523d",
   "metadata": {},
   "outputs": [
    {
     "name": "stderr",
     "output_type": "stream",
     "text": [
      "C:\\Users\\adisi\\AppData\\Local\\Temp\\ipykernel_14860\\3126854157.py:10: DeprecationWarning: `np.int` is a deprecated alias for the builtin `int`. To silence this warning, use `int` by itself. Doing this will not modify any behavior and is safe. When replacing `np.int`, you may wish to use e.g. `np.int64` or `np.int32` to specify the precision. If you wish to review your current use, check the release note link for additional information.\n",
      "Deprecated in NumPy 1.20; for more details and guidance: https://numpy.org/devdocs/release/1.20.0-notes.html#deprecations\n",
      "  l_all = l_all.astype(np.int)\n"
     ]
    }
   ],
   "source": [
    "#Training the cascaded classifier\n",
    "train_pos, train_neg = get_features(\"train\") \n",
    "num_pos = train_pos.shape[0] #Storing number of positive samples\n",
    "num_neg = train_neg.shape[0] #Storing number of negative samples\n",
    "onum_neg = num_neg\n",
    "\n",
    "all_feat= np.concatenate((train_pos,train_neg),axis = 0) \n",
    "\n",
    "T = 50 # Number of weak classifiers in a stage \n",
    "Stages = 10 # Number of stages\n",
    "\n",
    "\n",
    "FPR_stage_max = 0.5 # The minimum allowed FPR for a stage\n",
    "\n",
    "FPR_stages = []\n",
    "classifier = []\n",
    "features_per_stage = []\n",
    "\n",
    "for stage in range(Stages):\n",
    "    a_cascade = cascade_1stage(all_feat, num_pos, num_neg, FPR_stage_max, T)    \n",
    "    all_feat= a_cascade[1]  #Changing from all images to just the true and false positive images\n",
    "    num_neg = a_cascade[2]\n",
    "    fpr = num_neg/onum_neg #Calculating the false positive rate    \n",
    "    \n",
    "    FPR_stages.append(fpr) #Saving the FPR for each stage\n",
    "    classifier.append(a_cascade) #Saving the classifier of each stage\n",
    "    features_per_stage.append(a_cascade[3]) #Saving the number of features per stage\n",
    "    \n",
    "    if num_neg == 0: #Stops adding stages if there are no negative images remaining\n",
    "        break\n",
    "\n",
    "\n"
   ]
  },
  {
   "cell_type": "code",
   "execution_count": 6,
   "id": "1c7ea3a6",
   "metadata": {},
   "outputs": [
    {
     "ename": "TypeError",
     "evalue": "'float' object cannot be interpreted as an integer",
     "output_type": "error",
     "traceback": [
      "\u001b[1;31m---------------------------------------------------------------------------\u001b[0m",
      "\u001b[1;31mTypeError\u001b[0m                                 Traceback (most recent call last)",
      "Input \u001b[1;32mIn [6]\u001b[0m, in \u001b[0;36m<cell line: 11>\u001b[1;34m()\u001b[0m\n\u001b[0;32m      9\u001b[0m plt\u001b[38;5;241m.\u001b[39mlegend()\n\u001b[0;32m     10\u001b[0m plt\u001b[38;5;241m.\u001b[39mxticks(\u001b[38;5;28mrange\u001b[39m(\u001b[38;5;241m0\u001b[39m,\u001b[38;5;28mlen\u001b[39m(classifier)\u001b[38;5;241m+\u001b[39m\u001b[38;5;241m1\u001b[39m))\n\u001b[1;32m---> 11\u001b[0m plt\u001b[38;5;241m.\u001b[39myticks(\u001b[38;5;28;43mrange\u001b[39;49m\u001b[43m(\u001b[49m\u001b[38;5;241;43m0\u001b[39;49m\u001b[43m,\u001b[49m\u001b[38;5;241;43m1\u001b[39;49m\u001b[43m,\u001b[49m\u001b[38;5;241;43m0.1\u001b[39;49m\u001b[43m)\u001b[49m)\n\u001b[0;32m     13\u001b[0m FPR_stages\n",
      "\u001b[1;31mTypeError\u001b[0m: 'float' object cannot be interpreted as an integer"
     ]
    },
    {
     "data": {
      "image/png": "[encoded data removed]",
      "text/plain": [
       "<Figure size 640x480 with 1 Axes>"
      ]
     },
     "metadata": {},
     "output_type": "display_data"
    }
   ],
   "source": [
    "k = np.arange(1,len(classifier)+1,1,dtype=int)\n",
    "plt.plot(k,np.array(FPR_stages),label = \"FPR\")\n",
    "\n",
    "plt.grid(True, which='both')\n",
    "plt.axhline(y=0, color='k')\n",
    "plt.axvline(x=0, color='k')\n",
    "plt.xlabel('Number of stages')\n",
    "plt.ylabel('FPR')\n",
    "plt.legend()\n",
    "plt.xticks(range(0,len(classifier)+1))\n",
    "plt.yticks(range(0,1,0.1))\n",
    "\n",
    "FPR_stages"
   ]
  },
  {
   "cell_type": "code",
   "execution_count": 7,
   "id": "83a1d32f",
   "metadata": {},
   "outputs": [],
   "source": [
    "#Testing the casscaded classifier\n",
    "test_pos, test_neg = get_features(\"test\") \n",
    "\n",
    "fpr_stage = []\n",
    "fnr_stage = []\n",
    "\n",
    "stages = len(classifier)\n",
    "all_feat = np.concatenate((test_pos,test_neg),axis = 0)\n",
    "\n",
    "num_pos = test_pos.shape[0] #Storing number of positive samples\n",
    "num_neg = test_neg.shape[0] #Storing number of negative samples\n",
    "onum_pos = num_pos\n",
    "onum_neg = num_neg\n",
    "\n",
    "for stage in range(stages):\n",
    "    ht_all = classifier[stage][0] \n",
    "    alpha_all = classifier[stage][4] #trust in each of the feature tests\n",
    "    \n",
    "    feat_no = [sublist[0].astype(int) for sublist in ht_all] #indexes of the features used as weak classifiers\n",
    "    polarity = np.array([sublist[1] for sublist in ht_all]) #polarity for all the features used as weak classifiers\n",
    "    thresh = np.array([sublist[2].astype(int) for sublist in ht_all])  #threshold for all the features used as weak classifiers  \n",
    "\n",
    "    thresh_stage = 0.5*np.sum(alpha_all) \n",
    "\n",
    "    imgs_redu_feat = all_feat[:,feat_no] #taking only the features used as classifiers in all the images\n",
    "\n",
    "    thresh_across_feat = polarity*thresh #thresholds across all the features\n",
    "    thresh_across_feat = np.tile(thresh_across_feat, (num_pos+num_neg,1)) #Duplicating the values for all images\n",
    "    nimgs_redu_feat = polarity*imgs_redu_feat \n",
    "\n",
    "    pred_all_feat = np.zeros(np.shape(thresh_across_feat))\n",
    "    pred_all_feat[thresh_across_feat - nimgs_redu_feat >= 0] = 1 #Predicting based on all the reduced features for all the images\n",
    "\n",
    "    final_pred_val = np.dot(pred_all_feat, alpha_all) \n",
    "\n",
    "    final_pred = np.zeros(num_pos+num_neg)\n",
    "    final_pred[final_pred_val >= thresh_stage] = 1 #Final prediction for image\n",
    "\n",
    "    fp = np.sum(final_pred[num_pos:])/onum_neg #calculating false positive\n",
    "    tp = np.sum(final_pred[:num_pos])/onum_pos #calculating true positive\n",
    "    fpr_stage.append(fp)\n",
    "    fnr_stage.append(1 - tp)\n",
    "\n",
    "    og_pos_imgs_pred = final_pred[:num_pos] \n",
    "    true_pos_idxs = np.where(og_pos_imgs_pred ==1) #stores the index of all the true positive\n",
    "    new_all_feat = all_feat[true_pos_idxs]\n",
    "    for i in range(num_pos,num_pos+num_neg): #iterates through all the actual negative images \n",
    "        if final_pred[i] == 1: #Checks if it is false positive\n",
    "            neg_sample = all_feat[i]\n",
    "            neg_sample = np.reshape(neg_sample, (1,-1))\n",
    "            new_all_feat = np.append(new_all_feat,neg_sample, axis = 0) #Stores the false positive with all the true positives\n",
    "            \n",
    "    num_pos_temp = np.sum(final_pred[:num_pos]).astype(int) #New number of positives\n",
    "    num_neg = np.sum(final_pred[num_pos:]).astype(int) #New number of negatives\n",
    "    num_pos = num_pos_temp\n",
    "\n",
    "    all_feat = new_all_feat #The new features are all the features that the current stage returns as postive"
   ]
  },
  {
   "cell_type": "code",
   "execution_count": 8,
   "id": "aa061988",
   "metadata": {},
   "outputs": [
    {
     "ename": "TypeError",
     "evalue": "'float' object cannot be interpreted as an integer",
     "output_type": "error",
     "traceback": [
      "\u001b[1;31m---------------------------------------------------------------------------\u001b[0m",
      "\u001b[1;31mTypeError\u001b[0m                                 Traceback (most recent call last)",
      "Input \u001b[1;32mIn [8]\u001b[0m, in \u001b[0;36m<cell line: 12>\u001b[1;34m()\u001b[0m\n\u001b[0;32m     10\u001b[0m plt\u001b[38;5;241m.\u001b[39mlegend()\n\u001b[0;32m     11\u001b[0m plt\u001b[38;5;241m.\u001b[39mxticks(\u001b[38;5;28mrange\u001b[39m(\u001b[38;5;241m0\u001b[39m,\u001b[38;5;28mlen\u001b[39m(classifier)\u001b[38;5;241m+\u001b[39m\u001b[38;5;241m1\u001b[39m))\n\u001b[1;32m---> 12\u001b[0m plt\u001b[38;5;241m.\u001b[39myticks(\u001b[38;5;28;43mrange\u001b[39;49m\u001b[43m(\u001b[49m\u001b[38;5;241;43m0\u001b[39;49m\u001b[43m,\u001b[49m\u001b[38;5;241;43m1\u001b[39;49m\u001b[43m,\u001b[49m\u001b[38;5;241;43m0.1\u001b[39;49m\u001b[43m)\u001b[49m)\n",
      "\u001b[1;31mTypeError\u001b[0m: 'float' object cannot be interpreted as an integer"
     ]
    },
    {
     "data": {
      "image/png": "[encoded data removed]",
      "text/plain": [
       "<Figure size 640x480 with 1 Axes>"
      ]
     },
     "metadata": {},
     "output_type": "display_data"
    }
   ],
   "source": [
    "k = np.arange(1,len(classifier)+1,1,dtype=int)\n",
    "plt.plot(k,np.array(fnr_stage),label = \"FNR\")\n",
    "plt.plot(k,np.array(fpr_stage),label = \"FPR\")\n",
    "\n",
    "plt.grid(True, which='both')\n",
    "plt.axhline(y=0, color='k')\n",
    "plt.axvline(x=0, color='k')\n",
    "plt.xlabel('Number of stages')\n",
    "plt.ylabel('FPR')\n",
    "plt.legend()\n",
    "plt.xticks(range(0,len(classifier)+1))\n",
    "plt.yticks(range(0,1,0.1))\n",
    "\n"
   ]
  },
  {
   "cell_type": "code",
   "execution_count": 9,
   "id": "497fa4fb",
   "metadata": {},
   "outputs": [
    {
     "data": {
      "text/plain": [
       "[8, 12, 25, 24, 20, 14, 9, 2]"
      ]
     },
     "execution_count": 9,
     "metadata": {},
     "output_type": "execute_result"
    }
   ],
   "source": [
    "#Number of weak classifiers per stage\n",
    "features_per_stage "
   ]
  },
  {
   "cell_type": "code",
   "execution_count": 10,
   "id": "554d1271",
   "metadata": {},
   "outputs": [
    {
     "data": {
      "text/plain": [
       "8"
      ]
     },
     "execution_count": 10,
     "metadata": {},
     "output_type": "execute_result"
    }
   ],
   "source": [
    "#Number of stages of the classifier\n",
    "stages"
   ]
  },
  {
   "cell_type": "code",
   "execution_count": null,
   "id": "be45a354",
   "metadata": {},
   "outputs": [],
   "source": []
  }
 ],
 "metadata": {
  "kernelspec": {
   "display_name": "Python 3 (ipykernel)",
   "language": "python",
   "name": "python3"
  },
  "language_info": {
   "codemirror_mode": {
    "name": "ipython",
    "version": 3
   },
   "file_extension": ".py",
   "mimetype": "text/x-python",
   "name": "python",
   "nbconvert_exporter": "python",
   "pygments_lexer": "ipython3",
   "version": "3.8.13"
  }
 },
 "nbformat": 4,
 "nbformat_minor": 5
}
