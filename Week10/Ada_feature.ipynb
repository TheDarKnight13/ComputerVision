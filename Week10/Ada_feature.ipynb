{
 "cells": [
  {
   "cell_type": "code",
   "execution_count": 1,
   "id": "4c4c3c7e",
   "metadata": {},
   "outputs": [],
   "source": [
    "#importing the libraries\n",
    "import numpy as np\n",
    "import os \n",
    "import cv2 \n",
    "import matplotlib.pyplot as plt\n"
   ]
  },
  {
   "cell_type": "code",
   "execution_count": 2,
   "id": "7d1ed2a1",
   "metadata": {},
   "outputs": [],
   "source": [
    "#Extracting features from images\n",
    "def features(img):\n",
    "    h,w = img.shape\n",
    "    all_features = []\n",
    "    K_W = np.arange(2,w,2)\n",
    "    K_H = np.arange(2,h,2)\n",
    "    #Horizontal features\n",
    "    for k_w in K_W:\n",
    "        for j in range(h):\n",
    "            for i in range(w-k_w+1):\n",
    "                win1 = np.sum(img[j,i:int(i+k_w/2)]).astype(np.int32)\n",
    "                win2 = np.sum(img[j,int(i+k_w/2):int(i+k_w)]).astype(np.int32)\n",
    "                all_features.append(win1-win2)\n",
    "    #Vertical features            \n",
    "    for k_h in K_H:\n",
    "        for i in range(w):\n",
    "            for j in range(h-k_h+1):\n",
    "                win3 = np.sum(img[j:int(j+k_h/2),i]).astype(np.int32)\n",
    "                win4 = np.sum(img[int(j+k_h/2):int(j+k_h),i]).astype(np.int32)\n",
    "                all_features.append(win3-win4)\n",
    "    return np.array(all_features)\n",
    "    \n",
    "    "
   ]
  },
  {
   "cell_type": "code",
   "execution_count": 3,
   "id": "5e5fdbd4",
   "metadata": {},
   "outputs": [],
   "source": [
    "#Function to load all the images\n",
    "def Dataloader(loc,sign):\n",
    "    image_loc = os.path.join(\"CarDetection\",loc,sign)\n",
    "    dir_img = os.listdir(image_loc)\n",
    "    all_img = []\n",
    "    for i in dir_img:\n",
    "        img = cv2.imread(os.path.join(image_loc,i),cv2.IMREAD_GRAYSCALE)\n",
    "        all_img.append(img)\n",
    "    return all_img\n",
    "        "
   ]
  },
  {
   "cell_type": "code",
   "execution_count": 4,
   "id": "a2371866",
   "metadata": {},
   "outputs": [],
   "source": [
    "#Wrapper function\n",
    "def feature_extractor(loc,sign):\n",
    "    all_img = Dataloader(loc,sign)\n",
    "    all_features = []\n",
    "    for i in range(len(all_img)):\n",
    "        feature = features(all_img[i])\n",
    "        all_features.append(feature)\n",
    "        \n",
    "    return np.array(all_features)"
   ]
  },
  {
   "cell_type": "code",
   "execution_count": 5,
   "id": "7f3a8ddf",
   "metadata": {},
   "outputs": [],
   "source": [
    "#Saving all the features\n",
    "def save_features():\n",
    "    train_pos = feature_extractor(\"train\",\"positive\")\n",
    "    np.savez(\"train_pos.npz\",train_pos)\n",
    "    print(\"1\")\n",
    "    \n",
    "    train_neg = feature_extractor(\"train\",\"negative\")\n",
    "    np.savez(\"train_neg.npz\",train_neg)\n",
    "    print(\"2\")\n",
    "    \n",
    "    test_pos = feature_extractor(\"test\",\"positive\")\n",
    "    np.savez(\"test_pos.npz\",test_pos)\n",
    "    print(\"3\")\n",
    "    \n",
    "    test_neg = feature_extractor(\"test\",\"negative\")\n",
    "    np.savez(\"test_neg.npz\",test_neg)\n",
    "    print(\"4\")"
   ]
  },
  {
   "cell_type": "code",
   "execution_count": 6,
   "id": "1105bebd",
   "metadata": {},
   "outputs": [
    {
     "name": "stdout",
     "output_type": "stream",
     "text": [
      "1\n",
      "2\n",
      "3\n",
      "4\n"
     ]
    }
   ],
   "source": [
    "save_features()"
   ]
  },
  {
   "cell_type": "code",
   "execution_count": null,
   "id": "b468e0c6",
   "metadata": {},
   "outputs": [],
   "source": []
  }
 ],
 "metadata": {
  "kernelspec": {
   "display_name": "Python 3 (ipykernel)",
   "language": "python",
   "name": "python3"
  },
  "language_info": {
   "codemirror_mode": {
    "name": "ipython",
    "version": 3
   },
   "file_extension": ".py",
   "mimetype": "text/x-python",
   "name": "python",
   "nbconvert_exporter": "python",
   "pygments_lexer": "ipython3",
   "version": "3.8.13"
  }
 },
 "nbformat": 4,
 "nbformat_minor": 5
}
